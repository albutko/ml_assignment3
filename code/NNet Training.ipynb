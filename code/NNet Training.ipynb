{
 "cells": [
  {
   "cell_type": "code",
   "execution_count": 1,
   "metadata": {},
   "outputs": [],
   "source": [
    "import numpy as np\n",
    "import pandas as pd\n",
    "\n",
    "from timeit import default_timer as timer\n",
    "import matplotlib.pyplot as plt\n",
    "%matplotlib inline\n",
    "\n",
    "from sklearn.model_selection import train_test_split\n",
    "from sklearn.cluster import KMeans\n",
    "from sklearn.mixture import GaussianMixture\n",
    "from scipy.stats import kurtosis\n",
    "from sklearn.decomposition import PCA, FastICA\n",
    "from sklearn.random_projection import GaussianRandomProjection\n",
    "from sklearn.ensemble import ExtraTreesClassifier\n",
    "from sklearn.feature_selection import SelectFromModel\n",
    "from timeit import default_timer as timer\n",
    "import matplotlib.pyplot as plt\n",
    "%matplotlib inline\n",
    "import seaborn as sns\n",
    "sns.set()\n",
    "\n",
    "import warnings\n",
    "warnings.simplefilter(action='ignore', category=FutureWarning)\n",
    "\n",
    "from datasets.HiggsBosonDataset import HiggsBosonDataset\n",
    "from datasets.MappingDataset import MappingDataset\n",
    "%load_ext autoreload\n",
    "%autoreload 2\n",
    "from utils import *"
   ]
  },
  {
   "cell_type": "code",
   "execution_count": 2,
   "metadata": {},
   "outputs": [],
   "source": [
    "# Import Datasets\n",
    "higgs = HiggsBosonDataset()\n",
    "mapping = MappingDataset()"
   ]
  },
  {
   "cell_type": "markdown",
   "metadata": {},
   "source": [
    "# KMeans Clustering\n",
    "---\n",
    "## Higgs Boson Dataset"
   ]
  },
  {
   "cell_type": "markdown",
   "metadata": {},
   "source": [
    "## Mapping Dataset"
   ]
  },
  {
   "cell_type": "code",
   "execution_count": 50,
   "metadata": {},
   "outputs": [],
   "source": [
    "#Split Train data to train and validation Data\n",
    "X_train, y_train = mapping.get_train_data()\n",
    "X_test, y_test = mapping.get_test_data()"
   ]
  },
  {
   "cell_type": "markdown",
   "metadata": {},
   "source": [
    "### PCA"
   ]
  },
  {
   "cell_type": "code",
   "execution_count": 51,
   "metadata": {},
   "outputs": [],
   "source": [
    "pca = PCA(0.9)\n",
    "X_train_pca = pca.fit_transform(X_train)\n",
    "X_test_pca = pca.transform(X_test) "
   ]
  },
  {
   "cell_type": "code",
   "execution_count": 54,
   "metadata": {},
   "outputs": [
    {
     "name": "stdout",
     "output_type": "stream",
     "text": [
      "Fit Time: 0.702 seconds\n",
      "Estimator:\tkmeans Train Set\n",
      "intertia\t143093\n",
      "Homogeneity\t0.414\n",
      "AMI\t\t0.196\n",
      "\n",
      "Estimator:\tkmeans Test Set\n",
      "intertia\t143093\n",
      "Homogeneity\t0.383\n",
      "AMI\t\t0.335\n"
     ]
    }
   ],
   "source": [
    "kmeans = KMeans(n_clusters=8)\n",
    "\n",
    "t0 = timer()\n",
    "kmeans.fit(X_train_pca)\n",
    "time = timer() - t0\n",
    "print('Fit Time: %.3f seconds' % (time))\n",
    "\n",
    "bench_kmeans(kmeans, '\\tkmeans Train Set',X_train_pca, y_train)\n",
    "print()\n",
    "bench_kmeans(kmeans, '\\tkmeans Test Set',X_test_pca, y_test)"
   ]
  },
  {
   "cell_type": "markdown",
   "metadata": {},
   "source": [
    "### ICA"
   ]
  },
  {
   "cell_type": "code",
   "execution_count": 66,
   "metadata": {},
   "outputs": [],
   "source": [
    "ica = FastICA(15,tol=0.2)\n",
    "X_train_ica = ica.fit_transform(X_train)\n",
    "X_test_ica = ica.transform(X_test) "
   ]
  },
  {
   "cell_type": "code",
   "execution_count": 67,
   "metadata": {},
   "outputs": [
    {
     "data": {
      "text/plain": [
       "(10545, 15)"
      ]
     },
     "execution_count": 67,
     "metadata": {},
     "output_type": "execute_result"
    }
   ],
   "source": [
    "X_train_ica.shape"
   ]
  },
  {
   "cell_type": "code",
   "execution_count": 69,
   "metadata": {},
   "outputs": [
    {
     "name": "stdout",
     "output_type": "stream",
     "text": [
      "Fit Time: 1.213 seconds\n",
      "Estimator:\tkmeans Train Set\n",
      "intertia\t10\n",
      "Homogeneity\t0.347\n",
      "AMI\t\t0.148\n",
      "\n",
      "Estimator:\tkmeans Test Set\n",
      "intertia\t10\n",
      "Homogeneity\t0.403\n",
      "AMI\t\t0.326\n"
     ]
    }
   ],
   "source": [
    "kmeans = KMeans(n_clusters=10)\n",
    "\n",
    "t0 = timer()\n",
    "kmeans.fit(X_train_ica)\n",
    "time = timer() - t0\n",
    "print('Fit Time: %.3f seconds' % (time))\n",
    "\n",
    "bench_kmeans(kmeans, '\\tkmeans Train Set',X_train_ica, y_train)\n",
    "print()\n",
    "bench_kmeans(kmeans, '\\tkmeans Test Set',X_test_ica, y_test)"
   ]
  },
  {
   "cell_type": "markdown",
   "metadata": {},
   "source": [
    "### Random Projection"
   ]
  },
  {
   "cell_type": "code",
   "execution_count": 72,
   "metadata": {},
   "outputs": [],
   "source": [
    "grp = GaussianRandomProjection(n_components=15)\n",
    "X_train_grp = grp.fit_transform(X_train)\n",
    "X_test_grp = grp.transform(X_test) "
   ]
  },
  {
   "cell_type": "code",
   "execution_count": 75,
   "metadata": {},
   "outputs": [
    {
     "name": "stdout",
     "output_type": "stream",
     "text": [
      "Fit Time: 0.873 seconds\n",
      "Estimator:\tkmeans Train Set\n",
      "intertia\t143823\n",
      "Homogeneity\t0.355\n",
      "AMI\t\t0.158\n",
      "\n",
      "Estimator:\tkmeans Test Set\n",
      "intertia\t143823\n",
      "Homogeneity\t0.383\n",
      "AMI\t\t0.300\n"
     ]
    }
   ],
   "source": [
    "kmeans = KMeans(n_clusters=9)\n",
    "\n",
    "t0 = timer()\n",
    "kmeans.fit(X_train_grp)\n",
    "time = timer() - t0\n",
    "print('Fit Time: %.3f seconds' % (time))\n",
    "\n",
    "bench_kmeans(kmeans, '\\tkmeans Train Set',X_train_grp, y_train)\n",
    "print()\n",
    "bench_kmeans(kmeans, '\\tkmeans Test Set',X_test_grp, y_test)"
   ]
  },
  {
   "cell_type": "markdown",
   "metadata": {},
   "source": [
    "### Tree Model Selection"
   ]
  },
  {
   "cell_type": "code",
   "execution_count": 77,
   "metadata": {},
   "outputs": [],
   "source": [
    "clf = ExtraTreesClassifier(n_estimators=100)\n",
    "clf = clf.fit(X_train,y_train)\n",
    "selector = SelectFromModel(clf, prefit=True)\n",
    "X_train_tree = selector.transform(X_train)\n",
    "X_test_tree = selector.transform(X_test)"
   ]
  },
  {
   "cell_type": "code",
   "execution_count": 79,
   "metadata": {},
   "outputs": [
    {
     "name": "stdout",
     "output_type": "stream",
     "text": [
      "Fit Time: 0.545 seconds\n",
      "Estimator:\tkmeans Train Set\n",
      "intertia\t35209\n",
      "Homogeneity\t0.403\n",
      "AMI\t\t0.193\n",
      "\n",
      "Estimator:\tkmeans Test Set\n",
      "intertia\t35209\n",
      "Homogeneity\t0.377\n",
      "AMI\t\t0.328\n"
     ]
    }
   ],
   "source": [
    "kmeans = KMeans(n_clusters=8)\n",
    "\n",
    "t0 = timer()\n",
    "kmeans.fit(X_train_tree)\n",
    "time = timer() - t0\n",
    "print('Fit Time: %.3f seconds' % (time))\n",
    "\n",
    "bench_kmeans(kmeans, '\\tkmeans Train Set',X_train_tree, y_train)\n",
    "print()\n",
    "bench_kmeans(kmeans, '\\tkmeans Test Set',X_test_tree, y_test)"
   ]
  }
 ],
 "metadata": {
  "kernelspec": {
   "display_name": "Python 3",
   "language": "python",
   "name": "python3"
  },
  "language_info": {
   "codemirror_mode": {
    "name": "ipython",
    "version": 3
   },
   "file_extension": ".py",
   "mimetype": "text/x-python",
   "name": "python",
   "nbconvert_exporter": "python",
   "pygments_lexer": "ipython3",
   "version": "3.7.2"
  }
 },
 "nbformat": 4,
 "nbformat_minor": 2
}
